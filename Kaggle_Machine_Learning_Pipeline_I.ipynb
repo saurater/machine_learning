{
  "nbformat": 4,
  "nbformat_minor": 0,
  "metadata": {
    "colab": {
      "name": "Kaggle Machine Learning Pipeline I.ipynb",
      "provenance": [],
      "authorship_tag": "ABX9TyNIzDp0vxPZ8us7hy2SoqrC",
      "include_colab_link": true
    },
    "kernelspec": {
      "name": "python3",
      "display_name": "Python 3"
    },
    "language_info": {
      "name": "python"
    }
  },
  "cells": [
    {
      "cell_type": "markdown",
      "metadata": {
        "id": "view-in-github",
        "colab_type": "text"
      },
      "source": [
        "<a href=\"https://colab.research.google.com/github/saurater/machine_learning/blob/main/Kaggle_Machine_Learning_Pipeline_I.ipynb\" target=\"_parent\"><img src=\"https://colab.research.google.com/assets/colab-badge.svg\" alt=\"Open In Colab\"/></a>"
      ]
    },
    {
      "cell_type": "markdown",
      "source": [
        "# Kaggle Machine Learning Pipeline I\n",
        "\n",
        "**Adaptation:** Sam Faraday"
      ],
      "metadata": {
        "id": "WozEcllsQVXT"
      }
    },
    {
      "cell_type": "markdown",
      "source": [
        "# 1. Importando Bibliotecas"
      ],
      "metadata": {
        "id": "Ixbfo8MA09BH"
      }
    },
    {
      "cell_type": "code",
      "source": [
        "import pandas as pd\n",
        "\n",
        "from sklearn.model_selection import train_test_split\n",
        "\n",
        "from sklearn.compose import ColumnTransformer\n",
        "\n",
        "from sklearn.pipeline import Pipeline\n",
        "\n",
        "from sklearn.impute import SimpleImputer\n",
        "\n",
        "from sklearn.preprocessing import OneHotEncoder\n",
        "\n",
        "from sklearn.ensemble import RandomForestRegressor\n",
        "\n",
        "from sklearn.metrics import mean_absolute_error"
      ],
      "metadata": {
        "id": "zdCdOQ8U1FX_"
      },
      "execution_count": 1,
      "outputs": []
    },
    {
      "cell_type": "markdown",
      "source": [
        "# 2. Lendo o Dataset"
      ],
      "metadata": {
        "id": "74nVAS6h1G7-"
      }
    },
    {
      "cell_type": "code",
      "source": [
        "data = pd.read_csv('melb_data.csv')"
      ],
      "metadata": {
        "id": "Q4bkUuZ21RV-"
      },
      "execution_count": 2,
      "outputs": []
    },
    {
      "cell_type": "markdown",
      "source": [
        "# 3. Separando o Alvo das Preditoras"
      ],
      "metadata": {
        "id": "jN7G5Eml1XhF"
      }
    },
    {
      "cell_type": "code",
      "source": [
        "y_alvo = data.Price\n",
        "X_preditoras = data.drop(['Price'], axis=1)"
      ],
      "metadata": {
        "id": "P9Mvy4wi1gY0"
      },
      "execution_count": 3,
      "outputs": []
    },
    {
      "cell_type": "markdown",
      "source": [
        "# 4. Dividindo os Dados em Treino e Validação"
      ],
      "metadata": {
        "id": "oUoNMeLK1lCU"
      }
    },
    {
      "cell_type": "code",
      "source": [
        "X_preditoras_treino_completo, X_preditoras_validacao_completo, y_alvo_treino, y_alvo_validacao = \\\n",
        "train_test_split(X_preditoras, y_alvo, train_size=0.8, test_size=0.2, random_state=0)"
      ],
      "metadata": {
        "id": "bEixxPJB1sIs"
      },
      "execution_count": 4,
      "outputs": []
    },
    {
      "cell_type": "markdown",
      "source": [
        "# 5. Cardinalidade\n",
        "Selecionando apenas as Colunas Categóricas com menos de 10 Valores Únicos"
      ],
      "metadata": {
        "id": "zipMBkvr2CPM"
      }
    },
    {
      "cell_type": "code",
      "execution_count": 5,
      "metadata": {
        "id": "PhU5V-Vq0EpS"
      },
      "outputs": [],
      "source": [
        "colunas_categoricas = [nome_coluna for nome_coluna in X_preditoras_treino_completo.columns \\\n",
        "                       if X_preditoras_treino_completo[nome_coluna].nunique() < 10 and  \\\n",
        "                       X_preditoras_treino_completo[nome_coluna].dtype == \"object\"]"
      ]
    },
    {
      "cell_type": "markdown",
      "source": [
        "# 6. Selecionando Colunas Numéricas"
      ],
      "metadata": {
        "id": "xapA2hJ92WqV"
      }
    },
    {
      "cell_type": "code",
      "source": [
        "colunas_numericas = \\\n",
        "[nome_coluna for nome_coluna in X_preditoras_treino_completo.columns \\\n",
        " if X_preditoras_treino_completo[nome_coluna].dtype in ['int64', 'float64']]"
      ],
      "metadata": {
        "id": "QDVt0pBL2W39"
      },
      "execution_count": 6,
      "outputs": []
    },
    {
      "cell_type": "markdown",
      "source": [
        "# 7. Unindo Categóricas e Numéricas"
      ],
      "metadata": {
        "id": "HR-gcfuq3KG8"
      }
    },
    {
      "cell_type": "code",
      "source": [
        "minhas_colunas = colunas_categoricas + colunas_numericas\n",
        "\n",
        "X_preditoras_treino    = X_preditoras_treino_completo[minhas_colunas].copy()\n",
        "X_preditoras_validacao = X_preditoras_validacao_completo[minhas_colunas].copy()"
      ],
      "metadata": {
        "id": "MKPySo4o3KPK"
      },
      "execution_count": 7,
      "outputs": []
    },
    {
      "cell_type": "code",
      "source": [
        "X_preditoras_treino.head()"
      ],
      "metadata": {
        "colab": {
          "base_uri": "https://localhost:8080/",
          "height": 250
        },
        "id": "Gc_D44Jy5ari",
        "outputId": "0e045212-532b-4e71-e4d2-7af28cb84401"
      },
      "execution_count": 8,
      "outputs": [
        {
          "output_type": "execute_result",
          "data": {
            "text/plain": [
              "      Type Method             Regionname  Rooms  Distance  Postcode  Bedroom2  \\\n",
              "12167    u      S  Southern Metropolitan      1       5.0    3182.0       1.0   \n",
              "6524     h     SA   Western Metropolitan      2       8.0    3016.0       2.0   \n",
              "8413     h      S   Western Metropolitan      3      12.6    3020.0       3.0   \n",
              "2919     u     SP  Northern Metropolitan      3      13.0    3046.0       3.0   \n",
              "6043     h      S   Western Metropolitan      3      13.3    3020.0       3.0   \n",
              "\n",
              "       Bathroom  Car  Landsize  BuildingArea  YearBuilt  Lattitude  \\\n",
              "12167       1.0  1.0       0.0           NaN     1940.0  -37.85984   \n",
              "6524        2.0  1.0     193.0           NaN        NaN  -37.85800   \n",
              "8413        1.0  1.0     555.0           NaN        NaN  -37.79880   \n",
              "2919        1.0  1.0     265.0           NaN     1995.0  -37.70830   \n",
              "6043        1.0  2.0     673.0         673.0     1970.0  -37.76230   \n",
              "\n",
              "       Longtitude  Propertycount  \n",
              "12167    144.9867        13240.0  \n",
              "6524     144.9005         6380.0  \n",
              "8413     144.8220         3755.0  \n",
              "2919     144.9158         8870.0  \n",
              "6043     144.8272         4217.0  "
            ],
            "text/html": [
              "\n",
              "  <div id=\"df-9c8daf56-0347-4c5a-9fd5-f2b48b0837e4\">\n",
              "    <div class=\"colab-df-container\">\n",
              "      <div>\n",
              "<style scoped>\n",
              "    .dataframe tbody tr th:only-of-type {\n",
              "        vertical-align: middle;\n",
              "    }\n",
              "\n",
              "    .dataframe tbody tr th {\n",
              "        vertical-align: top;\n",
              "    }\n",
              "\n",
              "    .dataframe thead th {\n",
              "        text-align: right;\n",
              "    }\n",
              "</style>\n",
              "<table border=\"1\" class=\"dataframe\">\n",
              "  <thead>\n",
              "    <tr style=\"text-align: right;\">\n",
              "      <th></th>\n",
              "      <th>Type</th>\n",
              "      <th>Method</th>\n",
              "      <th>Regionname</th>\n",
              "      <th>Rooms</th>\n",
              "      <th>Distance</th>\n",
              "      <th>Postcode</th>\n",
              "      <th>Bedroom2</th>\n",
              "      <th>Bathroom</th>\n",
              "      <th>Car</th>\n",
              "      <th>Landsize</th>\n",
              "      <th>BuildingArea</th>\n",
              "      <th>YearBuilt</th>\n",
              "      <th>Lattitude</th>\n",
              "      <th>Longtitude</th>\n",
              "      <th>Propertycount</th>\n",
              "    </tr>\n",
              "  </thead>\n",
              "  <tbody>\n",
              "    <tr>\n",
              "      <th>12167</th>\n",
              "      <td>u</td>\n",
              "      <td>S</td>\n",
              "      <td>Southern Metropolitan</td>\n",
              "      <td>1</td>\n",
              "      <td>5.0</td>\n",
              "      <td>3182.0</td>\n",
              "      <td>1.0</td>\n",
              "      <td>1.0</td>\n",
              "      <td>1.0</td>\n",
              "      <td>0.0</td>\n",
              "      <td>NaN</td>\n",
              "      <td>1940.0</td>\n",
              "      <td>-37.85984</td>\n",
              "      <td>144.9867</td>\n",
              "      <td>13240.0</td>\n",
              "    </tr>\n",
              "    <tr>\n",
              "      <th>6524</th>\n",
              "      <td>h</td>\n",
              "      <td>SA</td>\n",
              "      <td>Western Metropolitan</td>\n",
              "      <td>2</td>\n",
              "      <td>8.0</td>\n",
              "      <td>3016.0</td>\n",
              "      <td>2.0</td>\n",
              "      <td>2.0</td>\n",
              "      <td>1.0</td>\n",
              "      <td>193.0</td>\n",
              "      <td>NaN</td>\n",
              "      <td>NaN</td>\n",
              "      <td>-37.85800</td>\n",
              "      <td>144.9005</td>\n",
              "      <td>6380.0</td>\n",
              "    </tr>\n",
              "    <tr>\n",
              "      <th>8413</th>\n",
              "      <td>h</td>\n",
              "      <td>S</td>\n",
              "      <td>Western Metropolitan</td>\n",
              "      <td>3</td>\n",
              "      <td>12.6</td>\n",
              "      <td>3020.0</td>\n",
              "      <td>3.0</td>\n",
              "      <td>1.0</td>\n",
              "      <td>1.0</td>\n",
              "      <td>555.0</td>\n",
              "      <td>NaN</td>\n",
              "      <td>NaN</td>\n",
              "      <td>-37.79880</td>\n",
              "      <td>144.8220</td>\n",
              "      <td>3755.0</td>\n",
              "    </tr>\n",
              "    <tr>\n",
              "      <th>2919</th>\n",
              "      <td>u</td>\n",
              "      <td>SP</td>\n",
              "      <td>Northern Metropolitan</td>\n",
              "      <td>3</td>\n",
              "      <td>13.0</td>\n",
              "      <td>3046.0</td>\n",
              "      <td>3.0</td>\n",
              "      <td>1.0</td>\n",
              "      <td>1.0</td>\n",
              "      <td>265.0</td>\n",
              "      <td>NaN</td>\n",
              "      <td>1995.0</td>\n",
              "      <td>-37.70830</td>\n",
              "      <td>144.9158</td>\n",
              "      <td>8870.0</td>\n",
              "    </tr>\n",
              "    <tr>\n",
              "      <th>6043</th>\n",
              "      <td>h</td>\n",
              "      <td>S</td>\n",
              "      <td>Western Metropolitan</td>\n",
              "      <td>3</td>\n",
              "      <td>13.3</td>\n",
              "      <td>3020.0</td>\n",
              "      <td>3.0</td>\n",
              "      <td>1.0</td>\n",
              "      <td>2.0</td>\n",
              "      <td>673.0</td>\n",
              "      <td>673.0</td>\n",
              "      <td>1970.0</td>\n",
              "      <td>-37.76230</td>\n",
              "      <td>144.8272</td>\n",
              "      <td>4217.0</td>\n",
              "    </tr>\n",
              "  </tbody>\n",
              "</table>\n",
              "</div>\n",
              "      <button class=\"colab-df-convert\" onclick=\"convertToInteractive('df-9c8daf56-0347-4c5a-9fd5-f2b48b0837e4')\"\n",
              "              title=\"Convert this dataframe to an interactive table.\"\n",
              "              style=\"display:none;\">\n",
              "        \n",
              "  <svg xmlns=\"http://www.w3.org/2000/svg\" height=\"24px\"viewBox=\"0 0 24 24\"\n",
              "       width=\"24px\">\n",
              "    <path d=\"M0 0h24v24H0V0z\" fill=\"none\"/>\n",
              "    <path d=\"M18.56 5.44l.94 2.06.94-2.06 2.06-.94-2.06-.94-.94-2.06-.94 2.06-2.06.94zm-11 1L8.5 8.5l.94-2.06 2.06-.94-2.06-.94L8.5 2.5l-.94 2.06-2.06.94zm10 10l.94 2.06.94-2.06 2.06-.94-2.06-.94-.94-2.06-.94 2.06-2.06.94z\"/><path d=\"M17.41 7.96l-1.37-1.37c-.4-.4-.92-.59-1.43-.59-.52 0-1.04.2-1.43.59L10.3 9.45l-7.72 7.72c-.78.78-.78 2.05 0 2.83L4 21.41c.39.39.9.59 1.41.59.51 0 1.02-.2 1.41-.59l7.78-7.78 2.81-2.81c.8-.78.8-2.07 0-2.86zM5.41 20L4 18.59l7.72-7.72 1.47 1.35L5.41 20z\"/>\n",
              "  </svg>\n",
              "      </button>\n",
              "      \n",
              "  <style>\n",
              "    .colab-df-container {\n",
              "      display:flex;\n",
              "      flex-wrap:wrap;\n",
              "      gap: 12px;\n",
              "    }\n",
              "\n",
              "    .colab-df-convert {\n",
              "      background-color: #E8F0FE;\n",
              "      border: none;\n",
              "      border-radius: 50%;\n",
              "      cursor: pointer;\n",
              "      display: none;\n",
              "      fill: #1967D2;\n",
              "      height: 32px;\n",
              "      padding: 0 0 0 0;\n",
              "      width: 32px;\n",
              "    }\n",
              "\n",
              "    .colab-df-convert:hover {\n",
              "      background-color: #E2EBFA;\n",
              "      box-shadow: 0px 1px 2px rgba(60, 64, 67, 0.3), 0px 1px 3px 1px rgba(60, 64, 67, 0.15);\n",
              "      fill: #174EA6;\n",
              "    }\n",
              "\n",
              "    [theme=dark] .colab-df-convert {\n",
              "      background-color: #3B4455;\n",
              "      fill: #D2E3FC;\n",
              "    }\n",
              "\n",
              "    [theme=dark] .colab-df-convert:hover {\n",
              "      background-color: #434B5C;\n",
              "      box-shadow: 0px 1px 3px 1px rgba(0, 0, 0, 0.15);\n",
              "      filter: drop-shadow(0px 1px 2px rgba(0, 0, 0, 0.3));\n",
              "      fill: #FFFFFF;\n",
              "    }\n",
              "  </style>\n",
              "\n",
              "      <script>\n",
              "        const buttonEl =\n",
              "          document.querySelector('#df-9c8daf56-0347-4c5a-9fd5-f2b48b0837e4 button.colab-df-convert');\n",
              "        buttonEl.style.display =\n",
              "          google.colab.kernel.accessAllowed ? 'block' : 'none';\n",
              "\n",
              "        async function convertToInteractive(key) {\n",
              "          const element = document.querySelector('#df-9c8daf56-0347-4c5a-9fd5-f2b48b0837e4');\n",
              "          const dataTable =\n",
              "            await google.colab.kernel.invokeFunction('convertToInteractive',\n",
              "                                                     [key], {});\n",
              "          if (!dataTable) return;\n",
              "\n",
              "          const docLinkHtml = 'Like what you see? Visit the ' +\n",
              "            '<a target=\"_blank\" href=https://colab.research.google.com/notebooks/data_table.ipynb>data table notebook</a>'\n",
              "            + ' to learn more about interactive tables.';\n",
              "          element.innerHTML = '';\n",
              "          dataTable['output_type'] = 'display_data';\n",
              "          await google.colab.output.renderOutput(dataTable, element);\n",
              "          const docLink = document.createElement('div');\n",
              "          docLink.innerHTML = docLinkHtml;\n",
              "          element.appendChild(docLink);\n",
              "        }\n",
              "      </script>\n",
              "    </div>\n",
              "  </div>\n",
              "  "
            ]
          },
          "metadata": {},
          "execution_count": 8
        }
      ]
    },
    {
      "cell_type": "markdown",
      "source": [
        "# 8. Preprocessando Dados Numéricos"
      ],
      "metadata": {
        "id": "hhdT5Ffb5b64"
      }
    },
    {
      "cell_type": "code",
      "source": [
        "# Preprocessing for numerical data\n",
        "transformador_numerico = SimpleImputer(strategy='constant')"
      ],
      "metadata": {
        "id": "kRkoHtES5vEC"
      },
      "execution_count": 9,
      "outputs": []
    },
    {
      "cell_type": "markdown",
      "source": [
        "# 9. Preprocessando Dados Categóricos"
      ],
      "metadata": {
        "id": "jxN9QNb35_ay"
      }
    },
    {
      "cell_type": "code",
      "source": [
        "transformador_categorico = Pipeline(steps=[\n",
        "    ('imputer', SimpleImputer(strategy='most_frequent')),\n",
        "    ('onehot', OneHotEncoder(handle_unknown='ignore'))\n",
        "])"
      ],
      "metadata": {
        "id": "v3T8X9Rd5_g4"
      },
      "execution_count": 10,
      "outputs": []
    },
    {
      "cell_type": "markdown",
      "source": [
        "# 10. Unindo os Preprocessamentos Categóricos e Numéricos"
      ],
      "metadata": {
        "id": "X0G_hWqD6dlI"
      }
    },
    {
      "cell_type": "code",
      "source": [
        "preprocessador = ColumnTransformer(\n",
        "    transformers=[\n",
        "        ('num', transformador_numerico, colunas_numericas),\n",
        "        ('cat', transformador_categorico, colunas_categoricas)\n",
        "    ])"
      ],
      "metadata": {
        "id": "X7-Svm2S6dsw"
      },
      "execution_count": 11,
      "outputs": []
    },
    {
      "cell_type": "markdown",
      "source": [
        "# 11. Definindo o Modelo"
      ],
      "metadata": {
        "id": "h9BDmxZX64sg"
      }
    },
    {
      "cell_type": "code",
      "source": [
        "modelo_floresta_randomica = RandomForestRegressor(n_estimators=100, random_state=0)"
      ],
      "metadata": {
        "id": "5qwNZgUf662I"
      },
      "execution_count": 12,
      "outputs": []
    },
    {
      "cell_type": "markdown",
      "source": [
        "# Etapa 3: Criar e Avaliar o pipeline\n",
        "Por fim, usamos a classe Pipeline para definir um pipeline que agrupa as etapas de pré-processamento e modelagem. Existem algumas coisas importantes a serem observadas:\n",
        "\n",
        "Com o pipeline, pré-processamos os dados de treinamento e ajustamos o modelo em uma única linha de código. (Em contraste, sem um pipeline, temos que fazer imputação, codificação one-hot e treinamento de modelo em etapas separadas. Isso se torna especialmente confuso se tivermos que lidar com variáveis numéricas e categóricas!)\n",
        "\n",
        "Com o pipeline, fornecemos os recursos não processados em X_preditoras_validacao para o comando predict(), e o pipeline pré-processa automaticamente os recursos antes de gerar as previsões. (No entanto, sem um pipeline, temos que nos lembrar de pré-processar os dados de validação antes de fazer previsões.)"
      ],
      "metadata": {
        "id": "o5W5AvGI7MOP"
      }
    },
    {
      "cell_type": "markdown",
      "source": [
        "# 12. Unindo Preprocessamento e Modelagem no Pipeline"
      ],
      "metadata": {
        "id": "RDSWlZ1p7hW2"
      }
    },
    {
      "cell_type": "code",
      "source": [
        "meu_pipeline = Pipeline(steps=[('preprocessor', preprocessador),('model', modelo_floresta_randomica)])"
      ],
      "metadata": {
        "id": "aVsMvXKo7u9e"
      },
      "execution_count": 13,
      "outputs": []
    },
    {
      "cell_type": "markdown",
      "source": [
        "# 13. Preprocessing of Training Data, Fit model \n"
      ],
      "metadata": {
        "id": "Z5Y286mb79kf"
      }
    },
    {
      "cell_type": "code",
      "source": [
        "meu_pipeline.fit(X_preditoras_treino, y_alvo_treino)"
      ],
      "metadata": {
        "colab": {
          "base_uri": "https://localhost:8080/"
        },
        "id": "DeGkTmBn7_o3",
        "outputId": "7fb5dd35-cb88-4a4f-fcc4-b62dcae66905"
      },
      "execution_count": 14,
      "outputs": [
        {
          "output_type": "execute_result",
          "data": {
            "text/plain": [
              "Pipeline(steps=[('preprocessor',\n",
              "                 ColumnTransformer(transformers=[('num',\n",
              "                                                  SimpleImputer(strategy='constant'),\n",
              "                                                  ['Rooms', 'Distance',\n",
              "                                                   'Postcode', 'Bedroom2',\n",
              "                                                   'Bathroom', 'Car',\n",
              "                                                   'Landsize', 'BuildingArea',\n",
              "                                                   'YearBuilt', 'Lattitude',\n",
              "                                                   'Longtitude',\n",
              "                                                   'Propertycount']),\n",
              "                                                 ('cat',\n",
              "                                                  Pipeline(steps=[('imputer',\n",
              "                                                                   SimpleImputer(strategy='most_frequent')),\n",
              "                                                                  ('onehot',\n",
              "                                                                   OneHotEncoder(handle_unknown='ignore'))]),\n",
              "                                                  ['Type', 'Method',\n",
              "                                                   'Regionname'])])),\n",
              "                ('model', RandomForestRegressor(random_state=0))])"
            ]
          },
          "metadata": {},
          "execution_count": 14
        }
      ]
    },
    {
      "cell_type": "markdown",
      "source": [
        "# 14. Preprocessing of Validation Data, Get predictions\n"
      ],
      "metadata": {
        "id": "23A-rmG98If-"
      }
    },
    {
      "cell_type": "code",
      "source": [
        "previsoes = meu_pipeline.predict(X_preditoras_validacao)"
      ],
      "metadata": {
        "id": "EZjVZ-3A8Jk3"
      },
      "execution_count": 15,
      "outputs": []
    },
    {
      "cell_type": "markdown",
      "source": [
        "# 15. Evaluate the Model\n"
      ],
      "metadata": {
        "id": "MGMpsNMt8Phn"
      }
    },
    {
      "cell_type": "code",
      "source": [
        "score = round(mean_absolute_error(y_alvo_validacao, previsoes))\n",
        "print('MAE:', score)"
      ],
      "metadata": {
        "colab": {
          "base_uri": "https://localhost:8080/"
        },
        "id": "FwQUqqvb8Qtm",
        "outputId": "e193cbe3-e356-4047-fbb5-598e39ce18cb"
      },
      "execution_count": 16,
      "outputs": [
        {
          "output_type": "stream",
          "name": "stdout",
          "text": [
            "MAE: 160679\n"
          ]
        }
      ]
    }
  ]
}