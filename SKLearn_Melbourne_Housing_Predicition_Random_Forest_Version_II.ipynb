{
  "nbformat": 4,
  "nbformat_minor": 0,
  "metadata": {
    "colab": {
      "name": "SKLearn - Melbourne Housing Predicition - Random Forest Version II.ipynb",
      "provenance": [],
      "authorship_tag": "ABX9TyOMWTXcC8/kIKEbNQFUzwPu",
      "include_colab_link": true
    },
    "kernelspec": {
      "name": "python3",
      "display_name": "Python 3"
    },
    "language_info": {
      "name": "python"
    }
  },
  "cells": [
    {
      "cell_type": "markdown",
      "metadata": {
        "id": "view-in-github",
        "colab_type": "text"
      },
      "source": [
        "<a href=\"https://colab.research.google.com/github/saurater/machine_learning/blob/main/SKLearn_Melbourne_Housing_Predicition_Random_Forest_Version_II.ipynb\" target=\"_parent\"><img src=\"https://colab.research.google.com/assets/colab-badge.svg\" alt=\"Open In Colab\"/></a>"
      ]
    },
    {
      "cell_type": "markdown",
      "source": [
        "# SKLearn - Melbourne Housing Predicition - Decision Tree vs Random Forest \n",
        "## Version II\n",
        "\n",
        "**Sam Faraday**"
      ],
      "metadata": {
        "id": "mc6g2D4Ht6zE"
      }
    },
    {
      "cell_type": "markdown",
      "source": [
        "# Kaggle Configuration"
      ],
      "metadata": {
        "id": "x6zTnyDMb3CK"
      }
    },
    {
      "cell_type": "code",
      "execution_count": null,
      "metadata": {
        "id": "wPUDgt1xX8Fm"
      },
      "outputs": [],
      "source": [
        "pip install kaggle"
      ]
    },
    {
      "cell_type": "code",
      "source": [
        "mkdir ~/.kaggle"
      ],
      "metadata": {
        "id": "qmVz0rNWYwdW",
        "colab": {
          "base_uri": "https://localhost:8080/"
        },
        "outputId": "14020ec0-75bf-4d22-b754-ba645b186296"
      },
      "execution_count": 25,
      "outputs": [
        {
          "output_type": "stream",
          "name": "stdout",
          "text": [
            "mkdir: cannot create directory ‘/root/.kaggle’: File exists\n"
          ]
        }
      ]
    },
    {
      "cell_type": "code",
      "source": [
        " cp kaggle.json ~/.kaggle/"
      ],
      "metadata": {
        "id": "9YlDGdMXY7nx"
      },
      "execution_count": 26,
      "outputs": []
    },
    {
      "cell_type": "code",
      "source": [
        "! chmod 600 ~/.kaggle/kaggle.json"
      ],
      "metadata": {
        "id": "2UN83zD9Y_SH"
      },
      "execution_count": 27,
      "outputs": []
    },
    {
      "cell_type": "markdown",
      "source": [
        "# Downloading and unzipping dataset"
      ],
      "metadata": {
        "id": "rOlC4ZqYcCBq"
      }
    },
    {
      "cell_type": "code",
      "source": [
        "! kaggle datasets download -d dansbecker/melbourne-housing-snapshot --force"
      ],
      "metadata": {
        "id": "QhyROPkJaaGC",
        "colab": {
          "base_uri": "https://localhost:8080/"
        },
        "outputId": "b6825f43-0830-4302-b8cc-5e6a0381c95e"
      },
      "execution_count": 28,
      "outputs": [
        {
          "output_type": "stream",
          "name": "stdout",
          "text": [
            "Downloading melbourne-housing-snapshot.zip to /content\n",
            "\r  0% 0.00/451k [00:00<?, ?B/s]\n",
            "\r100% 451k/451k [00:00<00:00, 53.2MB/s]\n"
          ]
        }
      ]
    },
    {
      "cell_type": "code",
      "source": [
        "!unzip melbourne-housing-snapshot"
      ],
      "metadata": {
        "id": "tsG9-1VobCnV",
        "colab": {
          "base_uri": "https://localhost:8080/"
        },
        "outputId": "6f7edb17-0677-455f-e605-ce93e61e2bd8"
      },
      "execution_count": 29,
      "outputs": [
        {
          "output_type": "stream",
          "name": "stdout",
          "text": [
            "Archive:  melbourne-housing-snapshot.zip\n",
            "replace melb_data.csv? [y]es, [n]o, [A]ll, [N]one, [r]ename: A\n",
            "  inflating: melb_data.csv           \n"
          ]
        }
      ]
    },
    {
      "cell_type": "markdown",
      "source": [
        "# Importing Working Libs"
      ],
      "metadata": {
        "id": "xdg0xJ1rebZm"
      }
    },
    {
      "cell_type": "code",
      "source": [
        "import pandas as pd\n",
        "from sklearn.metrics import mean_absolute_error\n",
        "from sklearn.model_selection import train_test_split\n",
        "from sklearn.tree import DecisionTreeRegressor"
      ],
      "metadata": {
        "id": "-YGSZdYregAJ"
      },
      "execution_count": 30,
      "outputs": []
    },
    {
      "cell_type": "markdown",
      "source": [
        "# Decision Tree"
      ],
      "metadata": {
        "id": "UDtlOUnh8TtJ"
      }
    },
    {
      "cell_type": "markdown",
      "source": [
        "## Reading the Training File"
      ],
      "metadata": {
        "id": "Lub82oZBefB4"
      }
    },
    {
      "cell_type": "code",
      "source": [
        "# Path of the file to read\n",
        "iowa_file_path = 'train.csv'\n",
        "\n",
        "home_data = pd.read_csv(iowa_file_path)"
      ],
      "metadata": {
        "id": "zqlcLckgepe4"
      },
      "execution_count": 31,
      "outputs": []
    },
    {
      "cell_type": "markdown",
      "source": [
        "## Setting up Features and Label"
      ],
      "metadata": {
        "id": "jZuHPqKJese5"
      }
    },
    {
      "cell_type": "code",
      "source": [
        "# Create target object and call it y\n",
        "y = home_data.SalePrice\n",
        "# Create X\n",
        "features = ['LotArea', 'YearBuilt', '1stFlrSF', '2ndFlrSF', 'FullBath', 'BedroomAbvGr', 'TotRmsAbvGrd']\n",
        "X = home_data[features]"
      ],
      "metadata": {
        "id": "7-JExL4WeyQI"
      },
      "execution_count": 32,
      "outputs": []
    },
    {
      "cell_type": "markdown",
      "source": [
        "## Spliting the Data"
      ],
      "metadata": {
        "id": "zQn14cjce27B"
      }
    },
    {
      "cell_type": "code",
      "source": [
        "# Split into validation and training data\n",
        "train_X, val_X, train_y, val_y = train_test_split(X, y, random_state=1)"
      ],
      "metadata": {
        "id": "i8deZKQIe7WS"
      },
      "execution_count": 33,
      "outputs": []
    },
    {
      "cell_type": "markdown",
      "source": [
        "## Fitting the Model"
      ],
      "metadata": {
        "id": "C0ev65cDfE_y"
      }
    },
    {
      "cell_type": "code",
      "source": [
        "# Specify Model\n",
        "iowa_model = DecisionTreeRegressor(random_state=1)\n",
        "# Fit Model\n",
        "iowa_model.fit(train_X, train_y)"
      ],
      "metadata": {
        "colab": {
          "base_uri": "https://localhost:8080/"
        },
        "id": "Ryu-5o_VfGfY",
        "outputId": "5d2a1f37-33a6-478f-940b-dd811fd7bdb6"
      },
      "execution_count": 34,
      "outputs": [
        {
          "output_type": "execute_result",
          "data": {
            "text/plain": [
              "DecisionTreeRegressor(random_state=1)"
            ]
          },
          "metadata": {},
          "execution_count": 34
        }
      ]
    },
    {
      "cell_type": "markdown",
      "source": [
        "## Predicting and Validating"
      ],
      "metadata": {
        "id": "hsaOI9y2fOMx"
      }
    },
    {
      "cell_type": "code",
      "source": [
        "# Make validation predictions and calculate mean absolute error\n",
        "val_predictions = iowa_model.predict(val_X)"
      ],
      "metadata": {
        "id": "MUAudvc9fVeZ"
      },
      "execution_count": 35,
      "outputs": []
    },
    {
      "cell_type": "code",
      "source": [
        "val_mae = mean_absolute_error(val_predictions, val_y)\n",
        "print(\"Validation MAE when not specifying max_leaf_nodes: {:,.0f}\".format(val_mae))"
      ],
      "metadata": {
        "colab": {
          "base_uri": "https://localhost:8080/"
        },
        "id": "jpBVKz6sfdEq",
        "outputId": "3fa7f879-f31d-453b-c1fc-04e6c6243e8f"
      },
      "execution_count": 36,
      "outputs": [
        {
          "output_type": "stream",
          "name": "stdout",
          "text": [
            "Validation MAE when not specifying max_leaf_nodes: 29,653\n"
          ]
        }
      ]
    },
    {
      "cell_type": "markdown",
      "source": [
        "## Hiperparameter Tuning - Max Leaf Nodes"
      ],
      "metadata": {
        "id": "KmmDFSjMfjN6"
      }
    },
    {
      "cell_type": "code",
      "source": [
        "# Using best value for max_leaf_nodes\n",
        "iowa_model = DecisionTreeRegressor(max_leaf_nodes=100, random_state=1)"
      ],
      "metadata": {
        "id": "UUpOQ-bkfopT"
      },
      "execution_count": 37,
      "outputs": []
    },
    {
      "cell_type": "markdown",
      "source": [
        "## Fitting the Model"
      ],
      "metadata": {
        "id": "-2Ehq1CqfvYT"
      }
    },
    {
      "cell_type": "code",
      "source": [
        "iowa_model.fit(train_X, train_y)"
      ],
      "metadata": {
        "colab": {
          "base_uri": "https://localhost:8080/"
        },
        "id": "H0kG5a1Xfx4N",
        "outputId": "c5545fbe-4bf0-423d-fd4d-3d9b840ffd54"
      },
      "execution_count": 38,
      "outputs": [
        {
          "output_type": "execute_result",
          "data": {
            "text/plain": [
              "DecisionTreeRegressor(max_leaf_nodes=100, random_state=1)"
            ]
          },
          "metadata": {},
          "execution_count": 38
        }
      ]
    },
    {
      "cell_type": "markdown",
      "source": [
        "## Predicting and Validating"
      ],
      "metadata": {
        "id": "G37ymntHf1f7"
      }
    },
    {
      "cell_type": "code",
      "source": [
        "val_predictions = iowa_model.predict(val_X)\n",
        "val_mae_decision_tree = mean_absolute_error(val_predictions, val_y)\n",
        "print(\"Validation MAE for best value of max_leaf_nodes: {:,.0f}\".format(val_mae_decision_tree))"
      ],
      "metadata": {
        "id": "xDLv-UsxbYv3",
        "colab": {
          "base_uri": "https://localhost:8080/"
        },
        "outputId": "dff29d5a-4aa5-4ec6-f60b-d80e0f873b52"
      },
      "execution_count": 48,
      "outputs": [
        {
          "output_type": "stream",
          "name": "stdout",
          "text": [
            "Validation MAE for best value of max_leaf_nodes: 27,283\n"
          ]
        }
      ]
    },
    {
      "cell_type": "markdown",
      "source": [
        "# Random Forest"
      ],
      "metadata": {
        "id": "tNKkOZ1O4M9s"
      }
    },
    {
      "cell_type": "markdown",
      "source": [
        "## Importing Working Libs"
      ],
      "metadata": {
        "id": "BQYVLVBu8ugg"
      }
    },
    {
      "cell_type": "code",
      "source": [
        "from sklearn.ensemble import RandomForestRegressor"
      ],
      "metadata": {
        "id": "gVhALJPb4RKL"
      },
      "execution_count": 40,
      "outputs": []
    },
    {
      "cell_type": "markdown",
      "source": [
        "## Training the Model"
      ],
      "metadata": {
        "id": "lw1U07_s8yuS"
      }
    },
    {
      "cell_type": "code",
      "source": [
        "rf_model = RandomForestRegressor()\n",
        "# fit your model\n",
        "rf_model.fit(train_X, train_y)"
      ],
      "metadata": {
        "id": "5_7iF64u4WUD"
      },
      "execution_count": 41,
      "outputs": []
    },
    {
      "cell_type": "markdown",
      "source": [
        "## Predicitng and Evaluating"
      ],
      "metadata": {
        "id": "phMNM70O846Z"
      }
    },
    {
      "cell_type": "code",
      "source": [
        "# Calculate the mean absolute error of your Random Forest model on the validation data\n",
        "rf_val_predictions = rf_model.predict(val_X)\n",
        "\n",
        "rf_val_mae = mean_absolute_error(rf_val_predictions, val_y)"
      ],
      "metadata": {
        "id": "21JdHBNq88_Q"
      },
      "execution_count": 42,
      "outputs": []
    },
    {
      "cell_type": "code",
      "source": [
        "print(\"Validation MAE for Random Forest Model: {:,.0f}\".format(round(rf_val_mae)))"
      ],
      "metadata": {
        "colab": {
          "base_uri": "https://localhost:8080/"
        },
        "id": "VnFdAOUJ4b-s",
        "outputId": "6e9e6c09-dc88-4950-e08b-ef3155b9b32c"
      },
      "execution_count": 43,
      "outputs": [
        {
          "output_type": "stream",
          "name": "stdout",
          "text": [
            "Validation MAE for Random Forest Model: 22,337\n"
          ]
        }
      ]
    },
    {
      "cell_type": "markdown",
      "source": [
        "# Final Comparison"
      ],
      "metadata": {
        "id": "J0eyqGTu9JAY"
      }
    },
    {
      "cell_type": "code",
      "source": [
        "print(\"MAE Decision Tree: \" + str(round(val_mae_decision_tree)) + \"\\nMAE Randon Forest: \" +  str(round(rf_val_mae))) "
      ],
      "metadata": {
        "colab": {
          "base_uri": "https://localhost:8080/"
        },
        "id": "zz4dnqfC9S6S",
        "outputId": "bbcd032e-a268-44ef-a88f-914f9c6d2488"
      },
      "execution_count": 56,
      "outputs": [
        {
          "output_type": "stream",
          "name": "stdout",
          "text": [
            "MAE Decision Tree: 27283\n",
            "MAE Randon Forest: 22337\n"
          ]
        }
      ]
    },
    {
      "cell_type": "markdown",
      "source": [
        "Random Forest has presented a smaller MAE"
      ],
      "metadata": {
        "id": "Jdt0hmKV_BRX"
      }
    }
  ]
}