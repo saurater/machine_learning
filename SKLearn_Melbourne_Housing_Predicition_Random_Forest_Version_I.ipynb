{
  "nbformat": 4,
  "nbformat_minor": 0,
  "metadata": {
    "colab": {
      "name": "SKLearn - Melbourne Housing Predicition - Random Forest Version I.ipynb",
      "provenance": [],
      "authorship_tag": "ABX9TyMIfGedfxDY1DSDviWmcJAV",
      "include_colab_link": true
    },
    "kernelspec": {
      "name": "python3",
      "display_name": "Python 3"
    },
    "language_info": {
      "name": "python"
    }
  },
  "cells": [
    {
      "cell_type": "markdown",
      "metadata": {
        "id": "view-in-github",
        "colab_type": "text"
      },
      "source": [
        "<a href=\"https://colab.research.google.com/github/saurater/machine_learning/blob/main/SKLearn_Melbourne_Housing_Predicition_Random_Forest_Version_I.ipynb\" target=\"_parent\"><img src=\"https://colab.research.google.com/assets/colab-badge.svg\" alt=\"Open In Colab\"/></a>"
      ]
    },
    {
      "cell_type": "markdown",
      "source": [
        "# SKLearn - Melbourne Housing Predicition - Random Forest Version I\n",
        "\n",
        "**Sam Faraday**"
      ],
      "metadata": {
        "id": "mc6g2D4Ht6zE"
      }
    },
    {
      "cell_type": "markdown",
      "source": [
        "# Kaggle Configuration"
      ],
      "metadata": {
        "id": "x6zTnyDMb3CK"
      }
    },
    {
      "cell_type": "code",
      "execution_count": null,
      "metadata": {
        "id": "wPUDgt1xX8Fm"
      },
      "outputs": [],
      "source": [
        "pip install kaggle"
      ]
    },
    {
      "cell_type": "code",
      "source": [
        "mkdir ~/.kaggle"
      ],
      "metadata": {
        "id": "qmVz0rNWYwdW"
      },
      "execution_count": 2,
      "outputs": []
    },
    {
      "cell_type": "code",
      "source": [
        " cp kaggle.json ~/.kaggle/"
      ],
      "metadata": {
        "id": "9YlDGdMXY7nx"
      },
      "execution_count": 3,
      "outputs": []
    },
    {
      "cell_type": "code",
      "source": [
        "! chmod 600 ~/.kaggle/kaggle.json"
      ],
      "metadata": {
        "id": "2UN83zD9Y_SH"
      },
      "execution_count": 4,
      "outputs": []
    },
    {
      "cell_type": "markdown",
      "source": [
        "# Downloading and unzipping dataset"
      ],
      "metadata": {
        "id": "rOlC4ZqYcCBq"
      }
    },
    {
      "cell_type": "code",
      "source": [
        "! kaggle datasets download -d dansbecker/melbourne-housing-snapshot"
      ],
      "metadata": {
        "id": "QhyROPkJaaGC",
        "colab": {
          "base_uri": "https://localhost:8080/"
        },
        "outputId": "2182987e-b1db-4bf7-fa04-aff24ffa4b78"
      },
      "execution_count": 7,
      "outputs": [
        {
          "output_type": "stream",
          "name": "stdout",
          "text": [
            "Downloading melbourne-housing-snapshot.zip to /content\n",
            "\r  0% 0.00/451k [00:00<?, ?B/s]\n",
            "\r100% 451k/451k [00:00<00:00, 79.6MB/s]\n"
          ]
        }
      ]
    },
    {
      "cell_type": "code",
      "source": [
        "!unzip melbourne-housing-snapshot.zip"
      ],
      "metadata": {
        "id": "tsG9-1VobCnV",
        "colab": {
          "base_uri": "https://localhost:8080/"
        },
        "outputId": "4dc33420-2e47-46b1-897d-131285f81319"
      },
      "execution_count": 9,
      "outputs": [
        {
          "output_type": "stream",
          "name": "stdout",
          "text": [
            "Archive:  melbourne-housing-snapshot.zip\n",
            "  inflating: melb_data.csv           \n"
          ]
        }
      ]
    },
    {
      "cell_type": "markdown",
      "source": [
        "# Importing working libraries"
      ],
      "metadata": {
        "id": "iZ3njVv2cL8C"
      }
    },
    {
      "cell_type": "code",
      "source": [
        "# Load data\n",
        "melbourne_file_path = 'melb_data.csv'\n",
        "melbourne_data = pd.read_csv(melbourne_file_path) \n",
        "# Filter rows with missing values\n",
        "melbourne_data = melbourne_data.dropna(axis=0)\n",
        "# Choose target and features\n",
        "y = melbourne_data.Price\n",
        "melbourne_features = ['Rooms', 'Bathroom', 'Landsize', 'BuildingArea', \n",
        "                        'YearBuilt', 'Lattitude', 'Longtitude']\n",
        "X = melbourne_data[melbourne_features]\n",
        "\n",
        "from sklearn.model_selection import train_test_split\n",
        "\n",
        "# split data into training and validation data, for both features and target\n",
        "# The split is based on a random number generator. Supplying a numeric value to\n",
        "# the random_state argument guarantees we get the same split every time we\n",
        "# run this script.\n",
        "train_X, val_X, train_y, val_y = train_test_split(X, y,random_state = 0)"
      ],
      "metadata": {
        "id": "xDLv-UsxbYv3"
      },
      "execution_count": 11,
      "outputs": []
    },
    {
      "cell_type": "code",
      "source": [
        "from sklearn.ensemble import RandomForestRegressor\n",
        "from sklearn.metrics import mean_absolute_error\n",
        "\n",
        "forest_model = RandomForestRegressor(random_state=1)\n",
        "forest_model.fit(train_X, train_y)\n",
        "melb_preds = forest_model.predict(val_X)\n",
        "print(round(mean_absolute_error(val_y, melb_preds)))"
      ],
      "metadata": {
        "colab": {
          "base_uri": "https://localhost:8080/"
        },
        "id": "7xALHoSOZCWR",
        "outputId": "6a4c99b8-42b7-4150-e148-7a7cec2961bf"
      },
      "execution_count": 13,
      "outputs": [
        {
          "output_type": "stream",
          "name": "stdout",
          "text": [
            "191670\n"
          ]
        }
      ]
    }
  ]
}