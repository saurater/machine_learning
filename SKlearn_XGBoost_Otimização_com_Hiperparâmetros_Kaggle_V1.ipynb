{
  "nbformat": 4,
  "nbformat_minor": 0,
  "metadata": {
    "colab": {
      "name": "SKlearn XGBoost Otimização com Hiperparâmetros - Kaggle - V1.ipynb",
      "provenance": [],
      "collapsed_sections": [],
      "authorship_tag": "ABX9TyPlRkWiTNuEnZCv8E/CGrKA",
      "include_colab_link": true
    },
    "kernelspec": {
      "name": "python3",
      "display_name": "Python 3"
    },
    "language_info": {
      "name": "python"
    }
  },
  "cells": [
    {
      "cell_type": "markdown",
      "metadata": {
        "id": "view-in-github",
        "colab_type": "text"
      },
      "source": [
        "<a href=\"https://colab.research.google.com/github/saurater/machine_learning/blob/main/SKlearn_XGBoost_Otimiza%C3%A7%C3%A3o_com_Hiperpar%C3%A2metros_Kaggle_V1.ipynb\" target=\"_parent\"><img src=\"https://colab.research.google.com/assets/colab-badge.svg\" alt=\"Open In Colab\"/></a>"
      ]
    },
    {
      "cell_type": "markdown",
      "source": [
        "# Sklearn - XGboost - Otimização com Hiperparâmetros - Kaggle - V1\n",
        "\n",
        "**Sam Faraday**"
      ],
      "metadata": {
        "id": "RKDo9AwUvBBY"
      }
    },
    {
      "cell_type": "markdown",
      "source": [
        "#  Importando Bibliotecas"
      ],
      "metadata": {
        "id": "BRLUKZUovPBw"
      }
    },
    {
      "cell_type": "code",
      "source": [
        "import pandas as pd\n",
        "from sklearn.model_selection import train_test_split"
      ],
      "metadata": {
        "id": "QEmmj0SlvVRQ"
      },
      "execution_count": 1,
      "outputs": []
    },
    {
      "cell_type": "markdown",
      "source": [
        "# Lendo Datasets"
      ],
      "metadata": {
        "id": "Cy9YCFc0vXWO"
      }
    },
    {
      "cell_type": "code",
      "source": [
        "X           = pd.read_csv('train.csv', index_col='Id')\n",
        "# https://github.com/saurater/machine_learning/blob/main/test.csv\n",
        "\n",
        "X_test_full = pd.read_csv('test.csv', index_col='Id')\n",
        "# https://github.com/saurater/machine_learning/blob/main/train.csv"
      ],
      "metadata": {
        "id": "FvNst_YGvZsu"
      },
      "execution_count": 2,
      "outputs": []
    },
    {
      "cell_type": "markdown",
      "source": [
        "# Removendo linhas sem o Alvo (SalePrice) e Separando o Alvo das Preditoras"
      ],
      "metadata": {
        "id": "XUOcAToqvnJf"
      }
    },
    {
      "cell_type": "code",
      "source": [
        "X.dropna(axis=0, subset=['SalePrice'], inplace=True)\n",
        "\n",
        "y = X.SalePrice            \n",
        "  \n",
        "X.drop(['SalePrice'], axis=1, inplace=True)"
      ],
      "metadata": {
        "id": "TlHB44_0vnY2"
      },
      "execution_count": 3,
      "outputs": []
    },
    {
      "cell_type": "markdown",
      "source": [
        "# Separando Dados de Treino e Validação"
      ],
      "metadata": {
        "id": "x5COney6wJh_"
      }
    },
    {
      "cell_type": "code",
      "source": [
        "X_train_full, X_valid_full, y_train, y_valid = \\\n",
        "train_test_split(X, y, train_size=0.8, test_size=0.2, random_state=0)"
      ],
      "metadata": {
        "id": "HMcO-gGdwPB1"
      },
      "execution_count": 4,
      "outputs": []
    },
    {
      "cell_type": "markdown",
      "source": [
        "# Cardinalidade - Selecionando Colunas Categóricas \n",
        "# com menos de 10 Valores Únicos"
      ],
      "metadata": {
        "id": "T2pKxQU2wZf2"
      }
    },
    {
      "cell_type": "code",
      "execution_count": 5,
      "metadata": {
        "id": "fv7Rlm6huJyB"
      },
      "outputs": [],
      "source": [
        "colunas_com_baixa_cardinalidade = \\\n",
        "[cname for cname in X_train_full.columns \\\n",
        " if X_train_full[cname].nunique() < 10 and X_train_full[cname].dtype == \"object\"]"
      ]
    },
    {
      "cell_type": "markdown",
      "source": [
        "# Selecionando Colunas Numéricas"
      ],
      "metadata": {
        "id": "HCzA3FYKw11P"
      }
    },
    {
      "cell_type": "code",
      "source": [
        "colunas_numericas = [cname for cname in X_train_full.columns\\\n",
        "                if X_train_full[cname].dtype in ['int64', 'float64']]"
      ],
      "metadata": {
        "id": "g8UQxAvjw2Sl"
      },
      "execution_count": 6,
      "outputs": []
    },
    {
      "cell_type": "markdown",
      "source": [
        "# Unindo Colunas Categóricas e Numéricas"
      ],
      "metadata": {
        "id": "aUMNrMn1xFeY"
      }
    },
    {
      "cell_type": "code",
      "source": [
        "minhas_colunas = colunas_com_baixa_cardinalidade + colunas_numericas\n",
        "\n",
        "X_train = X_train_full[minhas_colunas].copy()\n",
        "X_valid = X_valid_full[minhas_colunas].copy()\n",
        "X_test = X_test_full[minhas_colunas].copy()"
      ],
      "metadata": {
        "id": "zKXDqh4QxF01"
      },
      "execution_count": 7,
      "outputs": []
    },
    {
      "cell_type": "markdown",
      "source": [
        "# One Hot Encoding com Pandas\n",
        "\n",
        "Note que temos 76 Features. Depois do Get Dummy Encoding esse número passa para 227"
      ],
      "metadata": {
        "id": "Cd9Cnp2eyHKx"
      }
    },
    {
      "cell_type": "code",
      "source": [
        "X_train = pd.get_dummies(X_train)\n",
        "X_valid = pd.get_dummies(X_valid)\n",
        "X_test  = pd.get_dummies(X_test)"
      ],
      "metadata": {
        "id": "IdK1aF4wyHQX"
      },
      "execution_count": 8,
      "outputs": []
    },
    {
      "cell_type": "markdown",
      "source": [
        "# ATENÇÃO: Alinhando os DataFrames - Necessário com Get Dummies\n",
        "\n",
        " Ao se dividir o dataset em mais de um (Treino, Validação e Testes), pode ser que um determinado dataset tenha categorias de uma determinada feature que não estão presentes no outro dataset, tipo de testes e validação.\n",
        "\n",
        " Sem fazer o Alinhamento de Dataset, eles estarão desbalanceados e seu modelo não terá a perfeição mínima desejada.\n",
        "\n",
        " Por exemplo: imagina que tenha uma feature de Color com 3 variações. No DF_Treino podem ir as 3 cores, mas no de Teste podem ir apenas 1 ou 2 Cores, e sabemos que o Get Dummies vai criar tantas colunas quantas forem as categorias de cada feature (coluna)"
      ],
      "metadata": {
        "id": "UMay3hJ3PsAp"
      }
    },
    {
      "cell_type": "code",
      "source": [
        "X_train, X_valid = X_train.align(X_valid, join='left', axis=1)\n",
        "X_train, X_test  = X_train.align(X_test, join='left', axis=1)"
      ],
      "metadata": {
        "id": "AATud9L9P5Zx"
      },
      "execution_count": 9,
      "outputs": []
    },
    {
      "cell_type": "markdown",
      "source": [
        "# 1o. Modelo"
      ],
      "metadata": {
        "id": "0b5YoWPSXmzR"
      }
    },
    {
      "cell_type": "markdown",
      "source": [
        "## Criando o Primeiro Modelo - Hiperparâmetros Padrões\n"
      ],
      "metadata": {
        "id": "2xSASfEtRlNx"
      }
    },
    {
      "cell_type": "code",
      "source": [
        "from xgboost import XGBRegressor\n",
        "\n",
        "# Define the model\n",
        "meu_modelo_1 = XGBRegressor(random_state=0, verbosity = 0)\n",
        "\n",
        "# Fit the model\n",
        "meu_modelo_1.fit(X_train, y_train)\n"
      ],
      "metadata": {
        "colab": {
          "base_uri": "https://localhost:8080/"
        },
        "id": "qUznO2S9W6RS",
        "outputId": "acfe03f0-1726-49c4-dedd-67ffbfc2f197"
      },
      "execution_count": 10,
      "outputs": [
        {
          "output_type": "execute_result",
          "data": {
            "text/plain": [
              "XGBRegressor(verbosity=0)"
            ]
          },
          "metadata": {},
          "execution_count": 10
        }
      ]
    },
    {
      "cell_type": "markdown",
      "source": [
        "## 1a. Previsão"
      ],
      "metadata": {
        "id": "aOHIhBXTXtLA"
      }
    },
    {
      "cell_type": "code",
      "source": [
        "from sklearn.metrics import mean_absolute_error\n",
        "\n",
        "previsao_1 = meu_modelo_1.predict(X_valid)\n",
        "\n",
        "previsao_1 = pd.DataFrame(previsao_1, columns=['Previsao 1'])\n",
        "\n",
        "previsao_1 "
      ],
      "metadata": {
        "colab": {
          "base_uri": "https://localhost:8080/",
          "height": 424
        },
        "id": "bkwwzx4dX9V7",
        "outputId": "fe2fee23-632e-4a2f-cb3d-19e0aafe52ba"
      },
      "execution_count": 11,
      "outputs": [
        {
          "output_type": "execute_result",
          "data": {
            "text/plain": [
              "        Previsao 1\n",
              "0    237696.218750\n",
              "1    159064.046875\n",
              "2    108627.734375\n",
              "3    212797.796875\n",
              "4     88389.437500\n",
              "..             ...\n",
              "287  287674.625000\n",
              "288  551785.687500\n",
              "289  158480.593750\n",
              "290   79905.507812\n",
              "291   95457.601562\n",
              "\n",
              "[292 rows x 1 columns]"
            ],
            "text/html": [
              "\n",
              "  <div id=\"df-96bba409-5b47-4c8c-84a2-6139d1785211\">\n",
              "    <div class=\"colab-df-container\">\n",
              "      <div>\n",
              "<style scoped>\n",
              "    .dataframe tbody tr th:only-of-type {\n",
              "        vertical-align: middle;\n",
              "    }\n",
              "\n",
              "    .dataframe tbody tr th {\n",
              "        vertical-align: top;\n",
              "    }\n",
              "\n",
              "    .dataframe thead th {\n",
              "        text-align: right;\n",
              "    }\n",
              "</style>\n",
              "<table border=\"1\" class=\"dataframe\">\n",
              "  <thead>\n",
              "    <tr style=\"text-align: right;\">\n",
              "      <th></th>\n",
              "      <th>Previsao 1</th>\n",
              "    </tr>\n",
              "  </thead>\n",
              "  <tbody>\n",
              "    <tr>\n",
              "      <th>0</th>\n",
              "      <td>237696.218750</td>\n",
              "    </tr>\n",
              "    <tr>\n",
              "      <th>1</th>\n",
              "      <td>159064.046875</td>\n",
              "    </tr>\n",
              "    <tr>\n",
              "      <th>2</th>\n",
              "      <td>108627.734375</td>\n",
              "    </tr>\n",
              "    <tr>\n",
              "      <th>3</th>\n",
              "      <td>212797.796875</td>\n",
              "    </tr>\n",
              "    <tr>\n",
              "      <th>4</th>\n",
              "      <td>88389.437500</td>\n",
              "    </tr>\n",
              "    <tr>\n",
              "      <th>...</th>\n",
              "      <td>...</td>\n",
              "    </tr>\n",
              "    <tr>\n",
              "      <th>287</th>\n",
              "      <td>287674.625000</td>\n",
              "    </tr>\n",
              "    <tr>\n",
              "      <th>288</th>\n",
              "      <td>551785.687500</td>\n",
              "    </tr>\n",
              "    <tr>\n",
              "      <th>289</th>\n",
              "      <td>158480.593750</td>\n",
              "    </tr>\n",
              "    <tr>\n",
              "      <th>290</th>\n",
              "      <td>79905.507812</td>\n",
              "    </tr>\n",
              "    <tr>\n",
              "      <th>291</th>\n",
              "      <td>95457.601562</td>\n",
              "    </tr>\n",
              "  </tbody>\n",
              "</table>\n",
              "<p>292 rows × 1 columns</p>\n",
              "</div>\n",
              "      <button class=\"colab-df-convert\" onclick=\"convertToInteractive('df-96bba409-5b47-4c8c-84a2-6139d1785211')\"\n",
              "              title=\"Convert this dataframe to an interactive table.\"\n",
              "              style=\"display:none;\">\n",
              "        \n",
              "  <svg xmlns=\"http://www.w3.org/2000/svg\" height=\"24px\"viewBox=\"0 0 24 24\"\n",
              "       width=\"24px\">\n",
              "    <path d=\"M0 0h24v24H0V0z\" fill=\"none\"/>\n",
              "    <path d=\"M18.56 5.44l.94 2.06.94-2.06 2.06-.94-2.06-.94-.94-2.06-.94 2.06-2.06.94zm-11 1L8.5 8.5l.94-2.06 2.06-.94-2.06-.94L8.5 2.5l-.94 2.06-2.06.94zm10 10l.94 2.06.94-2.06 2.06-.94-2.06-.94-.94-2.06-.94 2.06-2.06.94z\"/><path d=\"M17.41 7.96l-1.37-1.37c-.4-.4-.92-.59-1.43-.59-.52 0-1.04.2-1.43.59L10.3 9.45l-7.72 7.72c-.78.78-.78 2.05 0 2.83L4 21.41c.39.39.9.59 1.41.59.51 0 1.02-.2 1.41-.59l7.78-7.78 2.81-2.81c.8-.78.8-2.07 0-2.86zM5.41 20L4 18.59l7.72-7.72 1.47 1.35L5.41 20z\"/>\n",
              "  </svg>\n",
              "      </button>\n",
              "      \n",
              "  <style>\n",
              "    .colab-df-container {\n",
              "      display:flex;\n",
              "      flex-wrap:wrap;\n",
              "      gap: 12px;\n",
              "    }\n",
              "\n",
              "    .colab-df-convert {\n",
              "      background-color: #E8F0FE;\n",
              "      border: none;\n",
              "      border-radius: 50%;\n",
              "      cursor: pointer;\n",
              "      display: none;\n",
              "      fill: #1967D2;\n",
              "      height: 32px;\n",
              "      padding: 0 0 0 0;\n",
              "      width: 32px;\n",
              "    }\n",
              "\n",
              "    .colab-df-convert:hover {\n",
              "      background-color: #E2EBFA;\n",
              "      box-shadow: 0px 1px 2px rgba(60, 64, 67, 0.3), 0px 1px 3px 1px rgba(60, 64, 67, 0.15);\n",
              "      fill: #174EA6;\n",
              "    }\n",
              "\n",
              "    [theme=dark] .colab-df-convert {\n",
              "      background-color: #3B4455;\n",
              "      fill: #D2E3FC;\n",
              "    }\n",
              "\n",
              "    [theme=dark] .colab-df-convert:hover {\n",
              "      background-color: #434B5C;\n",
              "      box-shadow: 0px 1px 3px 1px rgba(0, 0, 0, 0.15);\n",
              "      filter: drop-shadow(0px 1px 2px rgba(0, 0, 0, 0.3));\n",
              "      fill: #FFFFFF;\n",
              "    }\n",
              "  </style>\n",
              "\n",
              "      <script>\n",
              "        const buttonEl =\n",
              "          document.querySelector('#df-96bba409-5b47-4c8c-84a2-6139d1785211 button.colab-df-convert');\n",
              "        buttonEl.style.display =\n",
              "          google.colab.kernel.accessAllowed ? 'block' : 'none';\n",
              "\n",
              "        async function convertToInteractive(key) {\n",
              "          const element = document.querySelector('#df-96bba409-5b47-4c8c-84a2-6139d1785211');\n",
              "          const dataTable =\n",
              "            await google.colab.kernel.invokeFunction('convertToInteractive',\n",
              "                                                     [key], {});\n",
              "          if (!dataTable) return;\n",
              "\n",
              "          const docLinkHtml = 'Like what you see? Visit the ' +\n",
              "            '<a target=\"_blank\" href=https://colab.research.google.com/notebooks/data_table.ipynb>data table notebook</a>'\n",
              "            + ' to learn more about interactive tables.';\n",
              "          element.innerHTML = '';\n",
              "          dataTable['output_type'] = 'display_data';\n",
              "          await google.colab.output.renderOutput(dataTable, element);\n",
              "          const docLink = document.createElement('div');\n",
              "          docLink.innerHTML = docLinkHtml;\n",
              "          element.appendChild(docLink);\n",
              "        }\n",
              "      </script>\n",
              "    </div>\n",
              "  </div>\n",
              "  "
            ]
          },
          "metadata": {},
          "execution_count": 11
        }
      ]
    },
    {
      "cell_type": "markdown",
      "source": [
        "## 1o. MAE - Mean Absolute Error\n",
        "Erro Abosluto Médio - Quanto Menor, Melhor"
      ],
      "metadata": {
        "id": "nJRhfhANYeiZ"
      }
    },
    {
      "cell_type": "code",
      "source": [
        "mae_1 = round(mean_absolute_error(previsao_1, y_valid))\n",
        "print(\"Mean Absolute Error:\" , mae_1)"
      ],
      "metadata": {
        "colab": {
          "base_uri": "https://localhost:8080/"
        },
        "id": "SvUCP5FeYNhd",
        "outputId": "228e2651-6bc0-4652-fb75-8d4d5f3e1733"
      },
      "execution_count": 12,
      "outputs": [
        {
          "output_type": "stream",
          "name": "stdout",
          "text": [
            "Mean Absolute Error: 16803\n"
          ]
        }
      ]
    },
    {
      "cell_type": "markdown",
      "source": [
        "# 2o. Modelo - n_estimators=1000, learning_rate=0.05"
      ],
      "metadata": {
        "id": "CFFBMMAwYwx3"
      }
    },
    {
      "cell_type": "code",
      "source": [
        "# Define the model\n",
        "meu_modelo_2 = XGBRegressor(n_estimators=1000, learning_rate=0.05, verbosity = 0)\n",
        "\n",
        "# Fit the model\n",
        "meu_modelo_2.fit(X_train, y_train)"
      ],
      "metadata": {
        "colab": {
          "base_uri": "https://localhost:8080/"
        },
        "id": "EuQ20qIXY1YR",
        "outputId": "59a5c425-9e2b-416f-a639-5dfbfb2fe5f0"
      },
      "execution_count": 13,
      "outputs": [
        {
          "output_type": "execute_result",
          "data": {
            "text/plain": [
              "XGBRegressor(learning_rate=0.05, n_estimators=1000, verbosity=0)"
            ]
          },
          "metadata": {},
          "execution_count": 13
        }
      ]
    },
    {
      "cell_type": "markdown",
      "source": [
        "## 2a. Previsão"
      ],
      "metadata": {
        "id": "ldhhVrRMZ0DZ"
      }
    },
    {
      "cell_type": "code",
      "source": [
        "previsao_2 = meu_modelo_2.predict(X_valid)"
      ],
      "metadata": {
        "id": "7FZnbRr_Z0Kx"
      },
      "execution_count": 14,
      "outputs": []
    },
    {
      "cell_type": "markdown",
      "source": [
        "## 2o. MAE - Mean Absolute Error\n",
        "Erro Abosluto Médio - Quanto Menor, Melhor"
      ],
      "metadata": {
        "id": "6phkwSJaZ6UY"
      }
    },
    {
      "cell_type": "code",
      "source": [
        "# Calcula MAE\n",
        "mae_2 = round(mean_absolute_error(previsao_2, y_valid))\n",
        "print(\"Mean Absolute Error:\" , mae_2)"
      ],
      "metadata": {
        "colab": {
          "base_uri": "https://localhost:8080/"
        },
        "id": "kCzZOA4DZMwW",
        "outputId": "98eae7ea-6fbc-420b-c122-86fbda2c786c"
      },
      "execution_count": 15,
      "outputs": [
        {
          "output_type": "stream",
          "name": "stdout",
          "text": [
            "Mean Absolute Error: 16084\n"
          ]
        }
      ]
    },
    {
      "cell_type": "markdown",
      "source": [
        "# 3o. Modelo com apenas uma Árvore (n_estimators=1)\n",
        "Espera-se uma MAE maior, ou seja, um modelo pior"
      ],
      "metadata": {
        "id": "HnJ5rpk-aKxe"
      }
    },
    {
      "cell_type": "code",
      "source": [
        "meu_modelo_3 = XGBRegressor(n_estimators=1, verbosity=0)\n",
        "\n",
        "# Ajusta o Modelo\n",
        "meu_modelo_3.fit(X_train, y_train)"
      ],
      "metadata": {
        "colab": {
          "base_uri": "https://localhost:8080/"
        },
        "id": "PdBZLwcWaNla",
        "outputId": "eda11349-31c1-4342-8def-7082aaf867c7"
      },
      "execution_count": 16,
      "outputs": [
        {
          "output_type": "execute_result",
          "data": {
            "text/plain": [
              "XGBRegressor(n_estimators=1, verbosity=0)"
            ]
          },
          "metadata": {},
          "execution_count": 16
        }
      ]
    },
    {
      "cell_type": "markdown",
      "source": [
        "## 3a. Previsão"
      ],
      "metadata": {
        "id": "VIEXTXdbahZe"
      }
    },
    {
      "cell_type": "code",
      "source": [
        "previsao_3 = meu_modelo_3.predict(X_valid)"
      ],
      "metadata": {
        "id": "dw5ZqbAyahof"
      },
      "execution_count": 17,
      "outputs": []
    },
    {
      "cell_type": "markdown",
      "source": [
        "## 3o. MAE - Mean Absolute Error\n",
        "Erro Abosluto Médio - Quanto Menor, Melhor"
      ],
      "metadata": {
        "id": "7d47LL21amOv"
      }
    },
    {
      "cell_type": "code",
      "source": [
        "mae_3 = round(mean_absolute_error(previsao_3, y_valid))\n",
        "print(\"Mean Absolute Error:\" , mae_3)"
      ],
      "metadata": {
        "colab": {
          "base_uri": "https://localhost:8080/"
        },
        "id": "FHECDI1iamiA",
        "outputId": "a2a0fc3f-2fd5-4043-d828-d56d87df6f87"
      },
      "execution_count": 18,
      "outputs": [
        {
          "output_type": "stream",
          "name": "stdout",
          "text": [
            "Mean Absolute Error: 163383\n"
          ]
        }
      ]
    },
    {
      "cell_type": "markdown",
      "source": [
        "# Comparando os Modelos"
      ],
      "metadata": {
        "id": "zEPXTFsKa15l"
      }
    },
    {
      "cell_type": "code",
      "source": [
        "dic_comparacao1 = {\"MAE\": mae_1, \"n_estimators\": \"padrão\",\"learning_rate\": \"padrão\"}\n",
        "\n",
        "dic_comparacao2 = {\"MAE\": mae_2, \"n_estimators\": \"1000\",\"learning_rate\": \"0.5\"}\n",
        "\n",
        "dic_comparacao3 = {\"MAE\": mae_3, \"n_estimators\": \"1\",\"learning_rate\": \"padrao\"}"
      ],
      "metadata": {
        "id": "SqXoRRoQbT-G"
      },
      "execution_count": 19,
      "outputs": []
    },
    {
      "cell_type": "code",
      "source": [
        "df_comparacao = pd.DataFrame([dic_comparacao1, dic_comparacao2, dic_comparacao3], index=[\"1a\", \"2a\", \"3a\"])\n",
        "\n",
        "df_comparacao= df_comparacao.sort_values(\"MAE\")\n",
        "\n",
        "df_comparacao"
      ],
      "metadata": {
        "colab": {
          "base_uri": "https://localhost:8080/",
          "height": 143
        },
        "id": "syT2tWfZci-u",
        "outputId": "557310e7-84a9-443e-b77f-424720961193"
      },
      "execution_count": 20,
      "outputs": [
        {
          "output_type": "execute_result",
          "data": {
            "text/plain": [
              "       MAE n_estimators learning_rate\n",
              "2a   16084         1000           0.5\n",
              "1a   16803       padrão        padrão\n",
              "3a  163383            1        padrao"
            ],
            "text/html": [
              "\n",
              "  <div id=\"df-030980bb-56ff-476a-a009-9b3b50bdabda\">\n",
              "    <div class=\"colab-df-container\">\n",
              "      <div>\n",
              "<style scoped>\n",
              "    .dataframe tbody tr th:only-of-type {\n",
              "        vertical-align: middle;\n",
              "    }\n",
              "\n",
              "    .dataframe tbody tr th {\n",
              "        vertical-align: top;\n",
              "    }\n",
              "\n",
              "    .dataframe thead th {\n",
              "        text-align: right;\n",
              "    }\n",
              "</style>\n",
              "<table border=\"1\" class=\"dataframe\">\n",
              "  <thead>\n",
              "    <tr style=\"text-align: right;\">\n",
              "      <th></th>\n",
              "      <th>MAE</th>\n",
              "      <th>n_estimators</th>\n",
              "      <th>learning_rate</th>\n",
              "    </tr>\n",
              "  </thead>\n",
              "  <tbody>\n",
              "    <tr>\n",
              "      <th>2a</th>\n",
              "      <td>16084</td>\n",
              "      <td>1000</td>\n",
              "      <td>0.5</td>\n",
              "    </tr>\n",
              "    <tr>\n",
              "      <th>1a</th>\n",
              "      <td>16803</td>\n",
              "      <td>padrão</td>\n",
              "      <td>padrão</td>\n",
              "    </tr>\n",
              "    <tr>\n",
              "      <th>3a</th>\n",
              "      <td>163383</td>\n",
              "      <td>1</td>\n",
              "      <td>padrao</td>\n",
              "    </tr>\n",
              "  </tbody>\n",
              "</table>\n",
              "</div>\n",
              "      <button class=\"colab-df-convert\" onclick=\"convertToInteractive('df-030980bb-56ff-476a-a009-9b3b50bdabda')\"\n",
              "              title=\"Convert this dataframe to an interactive table.\"\n",
              "              style=\"display:none;\">\n",
              "        \n",
              "  <svg xmlns=\"http://www.w3.org/2000/svg\" height=\"24px\"viewBox=\"0 0 24 24\"\n",
              "       width=\"24px\">\n",
              "    <path d=\"M0 0h24v24H0V0z\" fill=\"none\"/>\n",
              "    <path d=\"M18.56 5.44l.94 2.06.94-2.06 2.06-.94-2.06-.94-.94-2.06-.94 2.06-2.06.94zm-11 1L8.5 8.5l.94-2.06 2.06-.94-2.06-.94L8.5 2.5l-.94 2.06-2.06.94zm10 10l.94 2.06.94-2.06 2.06-.94-2.06-.94-.94-2.06-.94 2.06-2.06.94z\"/><path d=\"M17.41 7.96l-1.37-1.37c-.4-.4-.92-.59-1.43-.59-.52 0-1.04.2-1.43.59L10.3 9.45l-7.72 7.72c-.78.78-.78 2.05 0 2.83L4 21.41c.39.39.9.59 1.41.59.51 0 1.02-.2 1.41-.59l7.78-7.78 2.81-2.81c.8-.78.8-2.07 0-2.86zM5.41 20L4 18.59l7.72-7.72 1.47 1.35L5.41 20z\"/>\n",
              "  </svg>\n",
              "      </button>\n",
              "      \n",
              "  <style>\n",
              "    .colab-df-container {\n",
              "      display:flex;\n",
              "      flex-wrap:wrap;\n",
              "      gap: 12px;\n",
              "    }\n",
              "\n",
              "    .colab-df-convert {\n",
              "      background-color: #E8F0FE;\n",
              "      border: none;\n",
              "      border-radius: 50%;\n",
              "      cursor: pointer;\n",
              "      display: none;\n",
              "      fill: #1967D2;\n",
              "      height: 32px;\n",
              "      padding: 0 0 0 0;\n",
              "      width: 32px;\n",
              "    }\n",
              "\n",
              "    .colab-df-convert:hover {\n",
              "      background-color: #E2EBFA;\n",
              "      box-shadow: 0px 1px 2px rgba(60, 64, 67, 0.3), 0px 1px 3px 1px rgba(60, 64, 67, 0.15);\n",
              "      fill: #174EA6;\n",
              "    }\n",
              "\n",
              "    [theme=dark] .colab-df-convert {\n",
              "      background-color: #3B4455;\n",
              "      fill: #D2E3FC;\n",
              "    }\n",
              "\n",
              "    [theme=dark] .colab-df-convert:hover {\n",
              "      background-color: #434B5C;\n",
              "      box-shadow: 0px 1px 3px 1px rgba(0, 0, 0, 0.15);\n",
              "      filter: drop-shadow(0px 1px 2px rgba(0, 0, 0, 0.3));\n",
              "      fill: #FFFFFF;\n",
              "    }\n",
              "  </style>\n",
              "\n",
              "      <script>\n",
              "        const buttonEl =\n",
              "          document.querySelector('#df-030980bb-56ff-476a-a009-9b3b50bdabda button.colab-df-convert');\n",
              "        buttonEl.style.display =\n",
              "          google.colab.kernel.accessAllowed ? 'block' : 'none';\n",
              "\n",
              "        async function convertToInteractive(key) {\n",
              "          const element = document.querySelector('#df-030980bb-56ff-476a-a009-9b3b50bdabda');\n",
              "          const dataTable =\n",
              "            await google.colab.kernel.invokeFunction('convertToInteractive',\n",
              "                                                     [key], {});\n",
              "          if (!dataTable) return;\n",
              "\n",
              "          const docLinkHtml = 'Like what you see? Visit the ' +\n",
              "            '<a target=\"_blank\" href=https://colab.research.google.com/notebooks/data_table.ipynb>data table notebook</a>'\n",
              "            + ' to learn more about interactive tables.';\n",
              "          element.innerHTML = '';\n",
              "          dataTable['output_type'] = 'display_data';\n",
              "          await google.colab.output.renderOutput(dataTable, element);\n",
              "          const docLink = document.createElement('div');\n",
              "          docLink.innerHTML = docLinkHtml;\n",
              "          element.appendChild(docLink);\n",
              "        }\n",
              "      </script>\n",
              "    </div>\n",
              "  </div>\n",
              "  "
            ]
          },
          "metadata": {},
          "execution_count": 20
        }
      ]
    }
  ]
}